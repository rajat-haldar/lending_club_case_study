{
 "cells": [
  {
   "cell_type": "markdown",
   "id": "4f3364f8",
   "metadata": {},
   "source": [
    "## Loading Data"
   ]
  },
  {
   "cell_type": "markdown",
   "id": "096780db",
   "metadata": {},
   "source": [
    "### Imports and Initial Setup"
   ]
  },
  {
   "cell_type": "code",
   "execution_count": 17,
   "id": "179d9fb7",
   "metadata": {},
   "outputs": [],
   "source": [
    "# Importing core libraries required for the case study\n",
    "import numpy as np\n",
    "import pandas as pd\n",
    "import matplotlib.pyplot as plt\n",
    "import seaborn as sb\n",
    "import datetime as dt\n",
    "import warnings\n",
    "\n",
    "# Setting max rows settings to 200 to display all the summary data\n",
    "pd.set_option(\"display.max_rows\", 50)\n",
    "\n",
    "# Suppress warnings\n",
    "warnings.filterwarnings('ignore')"
   ]
  },
  {
   "cell_type": "markdown",
   "id": "9f7a2dc6",
   "metadata": {},
   "source": [
    "### Load data from CSV"
   ]
  },
  {
   "cell_type": "code",
   "execution_count": 18,
   "id": "03c75f8d",
   "metadata": {},
   "outputs": [
    {
     "data": {
      "text/html": [
       "<div>\n",
       "<style scoped>\n",
       "    .dataframe tbody tr th:only-of-type {\n",
       "        vertical-align: middle;\n",
       "    }\n",
       "\n",
       "    .dataframe tbody tr th {\n",
       "        vertical-align: top;\n",
       "    }\n",
       "\n",
       "    .dataframe thead th {\n",
       "        text-align: right;\n",
       "    }\n",
       "</style>\n",
       "<table border=\"1\" class=\"dataframe\">\n",
       "  <thead>\n",
       "    <tr style=\"text-align: right;\">\n",
       "      <th></th>\n",
       "      <th>id</th>\n",
       "      <th>member_id</th>\n",
       "      <th>loan_amnt</th>\n",
       "      <th>funded_amnt</th>\n",
       "      <th>funded_amnt_inv</th>\n",
       "      <th>term</th>\n",
       "      <th>int_rate</th>\n",
       "      <th>installment</th>\n",
       "      <th>grade</th>\n",
       "      <th>sub_grade</th>\n",
       "      <th>...</th>\n",
       "      <th>num_tl_90g_dpd_24m</th>\n",
       "      <th>num_tl_op_past_12m</th>\n",
       "      <th>pct_tl_nvr_dlq</th>\n",
       "      <th>percent_bc_gt_75</th>\n",
       "      <th>pub_rec_bankruptcies</th>\n",
       "      <th>tax_liens</th>\n",
       "      <th>tot_hi_cred_lim</th>\n",
       "      <th>total_bal_ex_mort</th>\n",
       "      <th>total_bc_limit</th>\n",
       "      <th>total_il_high_credit_limit</th>\n",
       "    </tr>\n",
       "  </thead>\n",
       "  <tbody>\n",
       "    <tr>\n",
       "      <th>0</th>\n",
       "      <td>1077501</td>\n",
       "      <td>1296599</td>\n",
       "      <td>5000</td>\n",
       "      <td>5000</td>\n",
       "      <td>4975.0</td>\n",
       "      <td>36 months</td>\n",
       "      <td>10.65%</td>\n",
       "      <td>162.87</td>\n",
       "      <td>B</td>\n",
       "      <td>B2</td>\n",
       "      <td>...</td>\n",
       "      <td>NaN</td>\n",
       "      <td>NaN</td>\n",
       "      <td>NaN</td>\n",
       "      <td>NaN</td>\n",
       "      <td>0.0</td>\n",
       "      <td>0.0</td>\n",
       "      <td>NaN</td>\n",
       "      <td>NaN</td>\n",
       "      <td>NaN</td>\n",
       "      <td>NaN</td>\n",
       "    </tr>\n",
       "    <tr>\n",
       "      <th>1</th>\n",
       "      <td>1077430</td>\n",
       "      <td>1314167</td>\n",
       "      <td>2500</td>\n",
       "      <td>2500</td>\n",
       "      <td>2500.0</td>\n",
       "      <td>60 months</td>\n",
       "      <td>15.27%</td>\n",
       "      <td>59.83</td>\n",
       "      <td>C</td>\n",
       "      <td>C4</td>\n",
       "      <td>...</td>\n",
       "      <td>NaN</td>\n",
       "      <td>NaN</td>\n",
       "      <td>NaN</td>\n",
       "      <td>NaN</td>\n",
       "      <td>0.0</td>\n",
       "      <td>0.0</td>\n",
       "      <td>NaN</td>\n",
       "      <td>NaN</td>\n",
       "      <td>NaN</td>\n",
       "      <td>NaN</td>\n",
       "    </tr>\n",
       "    <tr>\n",
       "      <th>2</th>\n",
       "      <td>1077175</td>\n",
       "      <td>1313524</td>\n",
       "      <td>2400</td>\n",
       "      <td>2400</td>\n",
       "      <td>2400.0</td>\n",
       "      <td>36 months</td>\n",
       "      <td>15.96%</td>\n",
       "      <td>84.33</td>\n",
       "      <td>C</td>\n",
       "      <td>C5</td>\n",
       "      <td>...</td>\n",
       "      <td>NaN</td>\n",
       "      <td>NaN</td>\n",
       "      <td>NaN</td>\n",
       "      <td>NaN</td>\n",
       "      <td>0.0</td>\n",
       "      <td>0.0</td>\n",
       "      <td>NaN</td>\n",
       "      <td>NaN</td>\n",
       "      <td>NaN</td>\n",
       "      <td>NaN</td>\n",
       "    </tr>\n",
       "    <tr>\n",
       "      <th>3</th>\n",
       "      <td>1076863</td>\n",
       "      <td>1277178</td>\n",
       "      <td>10000</td>\n",
       "      <td>10000</td>\n",
       "      <td>10000.0</td>\n",
       "      <td>36 months</td>\n",
       "      <td>13.49%</td>\n",
       "      <td>339.31</td>\n",
       "      <td>C</td>\n",
       "      <td>C1</td>\n",
       "      <td>...</td>\n",
       "      <td>NaN</td>\n",
       "      <td>NaN</td>\n",
       "      <td>NaN</td>\n",
       "      <td>NaN</td>\n",
       "      <td>0.0</td>\n",
       "      <td>0.0</td>\n",
       "      <td>NaN</td>\n",
       "      <td>NaN</td>\n",
       "      <td>NaN</td>\n",
       "      <td>NaN</td>\n",
       "    </tr>\n",
       "    <tr>\n",
       "      <th>4</th>\n",
       "      <td>1075358</td>\n",
       "      <td>1311748</td>\n",
       "      <td>3000</td>\n",
       "      <td>3000</td>\n",
       "      <td>3000.0</td>\n",
       "      <td>60 months</td>\n",
       "      <td>12.69%</td>\n",
       "      <td>67.79</td>\n",
       "      <td>B</td>\n",
       "      <td>B5</td>\n",
       "      <td>...</td>\n",
       "      <td>NaN</td>\n",
       "      <td>NaN</td>\n",
       "      <td>NaN</td>\n",
       "      <td>NaN</td>\n",
       "      <td>0.0</td>\n",
       "      <td>0.0</td>\n",
       "      <td>NaN</td>\n",
       "      <td>NaN</td>\n",
       "      <td>NaN</td>\n",
       "      <td>NaN</td>\n",
       "    </tr>\n",
       "  </tbody>\n",
       "</table>\n",
       "<p>5 rows × 111 columns</p>\n",
       "</div>"
      ],
      "text/plain": [
       "        id  member_id  loan_amnt  funded_amnt  funded_amnt_inv        term  \\\n",
       "0  1077501  1296599    5000       5000         4975.0            36 months   \n",
       "1  1077430  1314167    2500       2500         2500.0            60 months   \n",
       "2  1077175  1313524    2400       2400         2400.0            36 months   \n",
       "3  1076863  1277178    10000      10000        10000.0           36 months   \n",
       "4  1075358  1311748    3000       3000         3000.0            60 months   \n",
       "\n",
       "  int_rate  installment grade sub_grade  ... num_tl_90g_dpd_24m  \\\n",
       "0  10.65%   162.87       B     B2        ... NaN                  \n",
       "1  15.27%   59.83        C     C4        ... NaN                  \n",
       "2  15.96%   84.33        C     C5        ... NaN                  \n",
       "3  13.49%   339.31       C     C1        ... NaN                  \n",
       "4  12.69%   67.79        B     B5        ... NaN                  \n",
       "\n",
       "  num_tl_op_past_12m pct_tl_nvr_dlq  percent_bc_gt_75 pub_rec_bankruptcies  \\\n",
       "0 NaN                NaN            NaN                0.0                   \n",
       "1 NaN                NaN            NaN                0.0                   \n",
       "2 NaN                NaN            NaN                0.0                   \n",
       "3 NaN                NaN            NaN                0.0                   \n",
       "4 NaN                NaN            NaN                0.0                   \n",
       "\n",
       "  tax_liens tot_hi_cred_lim total_bal_ex_mort total_bc_limit  \\\n",
       "0  0.0      NaN             NaN               NaN              \n",
       "1  0.0      NaN             NaN               NaN              \n",
       "2  0.0      NaN             NaN               NaN              \n",
       "3  0.0      NaN             NaN               NaN              \n",
       "4  0.0      NaN             NaN               NaN              \n",
       "\n",
       "  total_il_high_credit_limit  \n",
       "0 NaN                         \n",
       "1 NaN                         \n",
       "2 NaN                         \n",
       "3 NaN                         \n",
       "4 NaN                         \n",
       "\n",
       "[5 rows x 111 columns]"
      ]
     },
     "execution_count": 18,
     "metadata": {},
     "output_type": "execute_result"
    }
   ],
   "source": [
    "# Importing the loan.csv file\n",
    "data_original = pd.read_csv('C:\\\\Users\\\\rajat\\\\Downloads\\\\git_upgrad\\\\lending_club_case_study\\\\loan.csv', header = 0)\n",
    "data = data_original\n",
    "data.head()"
   ]
  },
  {
   "cell_type": "markdown",
   "id": "4a6ce45c",
   "metadata": {},
   "source": [
    "### Data Dictionary Review"
   ]
  },
  {
   "cell_type": "code",
   "execution_count": 19,
   "id": "a3b9147d",
   "metadata": {},
   "outputs": [
    {
     "data": {
      "text/html": [
       "<div>\n",
       "<style scoped>\n",
       "    .dataframe tbody tr th:only-of-type {\n",
       "        vertical-align: middle;\n",
       "    }\n",
       "\n",
       "    .dataframe tbody tr th {\n",
       "        vertical-align: top;\n",
       "    }\n",
       "\n",
       "    .dataframe thead th {\n",
       "        text-align: right;\n",
       "    }\n",
       "</style>\n",
       "<table border=\"1\" class=\"dataframe\">\n",
       "  <thead>\n",
       "    <tr style=\"text-align: right;\">\n",
       "      <th></th>\n",
       "      <th>LoanStatNew</th>\n",
       "      <th>Description</th>\n",
       "    </tr>\n",
       "  </thead>\n",
       "  <tbody>\n",
       "    <tr>\n",
       "      <th>0</th>\n",
       "      <td>acc_now_delinq</td>\n",
       "      <td>The number of accounts on which the borrower is now delinquent.</td>\n",
       "    </tr>\n",
       "    <tr>\n",
       "      <th>1</th>\n",
       "      <td>acc_open_past_24mths</td>\n",
       "      <td>Number of trades opened in past 24 months.</td>\n",
       "    </tr>\n",
       "    <tr>\n",
       "      <th>2</th>\n",
       "      <td>addr_state</td>\n",
       "      <td>The state provided by the borrower in the loan application</td>\n",
       "    </tr>\n",
       "    <tr>\n",
       "      <th>3</th>\n",
       "      <td>all_util</td>\n",
       "      <td>Balance to credit limit on all trades</td>\n",
       "    </tr>\n",
       "    <tr>\n",
       "      <th>4</th>\n",
       "      <td>annual_inc</td>\n",
       "      <td>The self-reported annual income provided by the borrower during registration.</td>\n",
       "    </tr>\n",
       "  </tbody>\n",
       "</table>\n",
       "</div>"
      ],
      "text/plain": [
       "            LoanStatNew  \\\n",
       "0  acc_now_delinq         \n",
       "1  acc_open_past_24mths   \n",
       "2  addr_state             \n",
       "3  all_util               \n",
       "4  annual_inc             \n",
       "\n",
       "                                                                     Description  \n",
       "0  The number of accounts on which the borrower is now delinquent.                \n",
       "1  Number of trades opened in past 24 months.                                     \n",
       "2  The state provided by the borrower in the loan application                     \n",
       "3  Balance to credit limit on all trades                                          \n",
       "4  The self-reported annual income provided by the borrower during registration.  "
      ]
     },
     "execution_count": 19,
     "metadata": {},
     "output_type": "execute_result"
    }
   ],
   "source": [
    "# Loading data dictionary values\n",
    "pd.set_option('display.max_colwidth', -1)\n",
    "dict = pd.read_excel('C:\\\\Users\\\\rajat\\\\Downloads\\\\git_upgrad\\\\lending_club_case_study\\\\Data_Dictionary.xlsx')\n",
    "dict.head(5)"
   ]
  },
  {
   "cell_type": "code",
   "execution_count": 20,
   "id": "14e39921",
   "metadata": {},
   "outputs": [
    {
     "data": {
      "text/plain": [
       "count    39717.000000\n",
       "mean     11219.443815\n",
       "std      7456.670694 \n",
       "min      500.000000  \n",
       "25%      5500.000000 \n",
       "50%      10000.000000\n",
       "75%      15000.000000\n",
       "max      35000.000000\n",
       "Name: loan_amnt, dtype: float64"
      ]
     },
     "execution_count": 20,
     "metadata": {},
     "output_type": "execute_result"
    }
   ],
   "source": [
    "data.loan_amnt.describe()"
   ]
  },
  {
   "cell_type": "markdown",
   "id": "e917d8c2",
   "metadata": {},
   "source": [
    "### Aim : To segregate favourable applicants for the lending process \n",
    "\n",
    "* The loan is already accepted in this dataset *\n",
    "\n",
    "1) Loan amount requested -> what is the loan amount requested and what is the amount dispursable?\n",
    "2) Previous history with loans -> does the applicant have a good credit score?\n",
    "3) Current balance, salary -> is the applicant capable of paying back?\n",
    "\n",
    "## Work with the data that is either completed the loan / hasn't\n",
    "\n",
    "Useful columns ->\n",
    "grade\n",
    "sub_grade\n",
    "int_rate\n",
    "installment\n",
    "emp_length\n",
    "annual_inc\n",
    "verification_status\n",
    "open_acc -> total accounts open currently\n",
    "total_rec_late_fee\n",
    "pub_rec_bankruptcies\n",
    "total_rec_late_fee\n",
    "total_rec_prncp -> Total principle received till date\n",
    "total_rec_int -> Total interest received till date\n",
    "\n",
    "\n",
    "\n",
    "loan amt - requested amt\n",
    "funded amt -> aprooved amt\n",
    "funded amt inv -> actually paid amt to the borrower"
   ]
  },
  {
   "cell_type": "code",
   "execution_count": 21,
   "id": "71ca2aa6",
   "metadata": {},
   "outputs": [],
   "source": [
    "data = data.drop(columns = ['id','member_id'])\n",
    "data = data.drop_duplicates(keep = 'first')\n",
    "data = data[data['loan_status'] != 'Current'] \n",
    "data2 = data"
   ]
  },
  {
   "cell_type": "code",
   "execution_count": 22,
   "id": "2149136f",
   "metadata": {},
   "outputs": [
    {
     "data": {
      "image/png": "[encoded data removed]",
      "text/plain": [
       "<Figure size 640x480 with 1 Axes>"
      ]
     },
     "metadata": {},
     "output_type": "display_data"
    },
    {
     "name": "stdout",
     "output_type": "stream",
     "text": [
      "Percentage of Applicants who paid the amt: 85.41358840760039\n",
      "Percentage of Applicants that defaulted: 14.586411592399616\n"
     ]
    }
   ],
   "source": [
    "plt.hist(data['loan_status'])\n",
    "plt.xlabel('Paid VS Unpaid', size = 20, color = 'green')\n",
    "plt.ylabel('No. of Applicants', size = 20, color = 'green')\n",
    "plt.show()\n",
    "total =len(data['loan_status'].index)\n",
    "paid_percent = len(data[data['loan_status'] == 'Fully Paid'].index) *100 / total\n",
    "unpaid_percent = len(data[data['loan_status'] == 'Charged Off'].index) *100 / total\n",
    "print('Percentage of Applicants who paid the amt: ' + str(paid_percent) + '\\nPercentage of Applicants that defaulted: ' + str(unpaid_percent))"
   ]
  },
  {
   "cell_type": "markdown",
   "id": "5a3a6076",
   "metadata": {},
   "source": [
    "# Attempting to find a trend / similarity between defaulters"
   ]
  },
  {
   "cell_type": "code",
   "execution_count": 23,
   "id": "50276555",
   "metadata": {},
   "outputs": [
    {
     "name": "stdout",
     "output_type": "stream",
     "text": [
      "Not Verified       2142\n",
      "Verified           2051\n",
      "Source Verified    1434\n",
      "Name: verification_status, dtype: int64\n",
      "11.309999999999999\n",
      "13.820431846454595\n",
      "16.4\n",
      "0    11.49\n",
      "1    13.49\n",
      "Name: int_rate, dtype: float64\n"
     ]
    }
   ],
   "source": [
    "data_1 = data[data['loan_status'] == 'Charged Off']\n",
    "defa= data_1[['loan_amnt','funded_amnt','funded_amnt_inv','int_rate','installment','annual_inc','open_acc','verification_status']]\n",
    "print(defa.verification_status.value_counts()) # To know if the sources are verified\n",
    "\n",
    "int_list = defa['int_rate'].apply(lambda x: float(x[:-1]))\n",
    "Q1 = int_list.quantile(0.25)\n",
    "mean = int_list.mean()\n",
    "Q3 = int_list.quantile(0.75)\n",
    "mode = int_list.mode()\n",
    "print(Q1)\n",
    "print(mean)\n",
    "print(Q3)\n",
    "print(mode)"
   ]
  },
  {
   "cell_type": "markdown",
   "id": "814bc255",
   "metadata": {},
   "source": [
    "#### Above is an attempt to identify if most of the defaulters lie in the not verified category, it is false."
   ]
  },
  {
   "cell_type": "code",
   "execution_count": 24,
   "id": "80dbd590",
   "metadata": {},
   "outputs": [
    {
     "name": "stdout",
     "output_type": "stream",
     "text": [
      "Not Verified       14552\n",
      "Verified           10155\n",
      "Source Verified    8243 \n",
      "Name: verification_status, dtype: int64\n",
      "8.49\n",
      "11.60976115326252\n",
      "13.99\n",
      "0    10.99\n",
      "Name: int_rate, dtype: float64\n"
     ]
    }
   ],
   "source": [
    "data_2 = data2[data2['loan_status'] == 'Fully Paid']\n",
    "\n",
    "paid= data_2[['loan_amnt','funded_amnt','funded_amnt_inv','int_rate','installment','annual_inc','open_acc','verification_status']]\n",
    "print(paid.verification_status.value_counts()) # To know if the sources are verified\n",
    "\n",
    "int_list_2 = paid['int_rate'].apply(lambda x: float(x[:-1]))\n",
    "Q1 = int_list_2.quantile(0.25)\n",
    "mean = int_list_2.mean()\n",
    "Q3 = int_list_2.quantile(0.75)\n",
    "mode = int_list_2.mode()\n",
    "print(Q1)\n",
    "print(mean)\n",
    "print(Q3)\n",
    "print(mode)"
   ]
  },
  {
   "cell_type": "markdown",
   "id": "052b8091",
   "metadata": {},
   "source": [
    "# Observations related to Verification Status and Interest rate\n",
    "\n",
    "There is not much insight we can draw from the verification status apart from the point that a significant amount is lend to the applicants that are unverified.\n",
    "\n",
    "It is observed that the interest rates vary in both the scenarios, the rates in case of defaulters is higher than that in case of those who paid the amnt.\n",
    "\n",
    "Below is a box plot that depicts the same."
   ]
  },
  {
   "cell_type": "code",
   "execution_count": 25,
   "id": "4354ea69",
   "metadata": {},
   "outputs": [
    {
     "data": {
      "image/png": "[encoded data removed]",
      "text/plain": [
       "<Figure size 640x480 with 1 Axes>"
      ]
     },
     "metadata": {},
     "output_type": "display_data"
    }
   ],
   "source": [
    "#plt.boxplot(int_list)\n",
    "plt.boxplot([int_list,int_list_2])\n",
    "plt.xticks((1,2),['Defaulters','Paid'])\n",
    "plt.ylabel('Interest Rates in %', size = 20, color = 'brown')\n",
    "plt.xlabel('Applicants', size = 20, color = 'brown')\n",
    "plt.show()"
   ]
  },
  {
   "cell_type": "code",
   "execution_count": 26,
   "id": "b0f20e1f",
   "metadata": {},
   "outputs": [
    {
     "data": {
      "image/png": "[encoded data removed]",
      "text/plain": [
       "<Figure size 640x480 with 1 Axes>"
      ]
     },
     "metadata": {},
     "output_type": "display_data"
    }
   ],
   "source": [
    "defa_1 = defa\n",
    "paid_1 = paid\n",
    "\n",
    "defa_1 = defa_1[(defa_1['open_acc'] > defa_1.open_acc.quantile(0.3)) & (defa_1['open_acc'] < defa_1.open_acc.quantile(0.7))]\n",
    "paid_1 = paid_1[(paid_1['open_acc'] > paid_1.open_acc.quantile(0.3)) & (paid_1['open_acc'] < paid_1.open_acc.quantile(0.7))]\n",
    "plt.boxplot([defa_1.open_acc,paid_1.open_acc])\n",
    "plt.xticks((1,2),['Defaulters','Paid'])\n",
    "plt.ylabel('No. of open acc', size = 20, color = 'brown')\n",
    "plt.xlabel('Applicants', size = 20, color = 'brown')\n",
    "plt.show()"
   ]
  },
  {
   "cell_type": "markdown",
   "id": "9ac284ee",
   "metadata": {},
   "source": [
    "The above analysis suspects a link between the number of open credit linnks of an applicant with the tendency to default."
   ]
  },
  {
   "cell_type": "code",
   "execution_count": 28,
   "id": "a28eadeb",
   "metadata": {},
   "outputs": [
    {
     "name": "stdout",
     "output_type": "stream",
     "text": [
      "count     32950\n",
      "unique    50   \n",
      "top       CA   \n",
      "freq      5824 \n",
      "Name: addr_state, dtype: object\n"
     ]
    },
    {
     "data": {
      "image/png": "[encoded data removed]",
      "text/plain": [
       "<Figure size 640x480 with 1 Axes>"
      ]
     },
     "metadata": {},
     "output_type": "display_data"
    }
   ],
   "source": [
    "defa_state = data_1.addr_state\n",
    "\n",
    "tot = len(defa_state.unique())\n",
    "print(data_2.addr_state.describe())\n",
    "plt.hist(defa_state, bins = tot)\n",
    "plt.xticks(rotation = 90)\n",
    "plt.show()"
   ]
  },
  {
   "cell_type": "markdown",
   "id": "b49fdb4c",
   "metadata": {},
   "source": [
    "# Defaulters by Employment Exp"
   ]
  },
  {
   "cell_type": "code",
   "execution_count": 29,
   "id": "c3f47b10",
   "metadata": {},
   "outputs": [
    {
     "data": {
      "text/plain": [
       "10+ years    7157\n",
       "< 1 year     3869\n",
       "2 years      3724\n",
       "3 years      3457\n",
       "4 years      2880\n",
       "5 years      2736\n",
       "1 year       2713\n",
       "6 years      1861\n",
       "7 years      1448\n",
       "8 years      1232\n",
       "9 years      1068\n",
       "Name: emp_length, dtype: int64"
      ]
     },
     "execution_count": 29,
     "metadata": {},
     "output_type": "execute_result"
    }
   ],
   "source": [
    "\n",
    "data_1.emp_length.value_counts()\n",
    "\n",
    "\n",
    "data_2.emp_length.value_counts()"
   ]
  },
  {
   "cell_type": "markdown",
   "id": "eb4c07d4",
   "metadata": {},
   "source": [
    "Assuming that the employement age is 22 years\n",
    "\n",
    "Here is the list of age groups the defaulters belong to:\n",
    "\n",
    "22 - 27 -> 3137\n",
    "\n",
    "27 - 31 -> 931\n",
    "\n",
    "31+ -> 1331\n",
    "\n",
    "But again most of the applicants lie in this age group"
   ]
  },
  {
   "cell_type": "code",
   "execution_count": 30,
   "id": "9c699697",
   "metadata": {},
   "outputs": [
    {
     "data": {
      "text/plain": [
       "B    1425\n",
       "C    1347\n",
       "D    1118\n",
       "E    715 \n",
       "A    602 \n",
       "F    319 \n",
       "G    101 \n",
       "Name: grade, dtype: int64"
      ]
     },
     "execution_count": 30,
     "metadata": {},
     "output_type": "execute_result"
    }
   ],
   "source": [
    "data_1.grade.value_counts()"
   ]
  },
  {
   "cell_type": "markdown",
   "id": "20b54d99",
   "metadata": {},
   "source": [
    "Observation based off of the grades and defaulters.\n",
    "Lets look into the grade A a bit deeper."
   ]
  },
  {
   "cell_type": "markdown",
   "id": "0f810be0",
   "metadata": {},
   "source": [
    "The reason for loan could've hepled predict of segregated into categories instead of these many unique values."
   ]
  },
  {
   "cell_type": "code",
   "execution_count": 31,
   "id": "d045b0ab",
   "metadata": {},
   "outputs": [
    {
     "data": {
      "image/png": "[encoded data removed]",
      "text/plain": [
       "<Figure size 640x480 with 1 Axes>"
      ]
     },
     "metadata": {},
     "output_type": "display_data"
    }
   ],
   "source": [
    "plt.boxplot([data_2.dti,data_1.dti])\n",
    "plt.xticks((1,2),['Fully Paid','Defaulters'])\n",
    "plt.show()"
   ]
  },
  {
   "cell_type": "code",
   "execution_count": 32,
   "id": "a1bb7270",
   "metadata": {},
   "outputs": [
    {
     "data": {
      "image/png": "[encoded data removed]",
      "text/plain": [
       "<Figure size 640x480 with 1 Axes>"
      ]
     },
     "metadata": {},
     "output_type": "display_data"
    }
   ],
   "source": [
    "ratio_defa = data_1.loan_amnt / data_1.annual_inc\n",
    "ratio_paid = data_2.loan_amnt / data_2.annual_inc\n",
    "\n",
    "Q1d = ratio_defa.quantile(0.25)\n",
    "Q3d = ratio_defa.quantile(0.75)\n",
    "IQRd = Q3d - Q1d\n",
    "\n",
    "Q1p = ratio_paid.quantile(0.25)\n",
    "Q3p = ratio_paid.quantile(0.75)\n",
    "IQRp = Q3p - Q1p\n",
    "\n",
    "\n",
    "plt.boxplot([ratio_defa,ratio_paid])\n",
    "plt.xticks((1,2),['Defaulters','Fully Paid'])\n",
    "plt.xlabel('Applicants', size = 20)\n",
    "plt.xlabel('Loan Amt / Annual Inc', size = 20)\n",
    "plt.show()"
   ]
  },
  {
   "cell_type": "markdown",
   "id": "c4a17684",
   "metadata": {},
   "source": [
    "Tried to filter the outliers, but I think a column with values between 0 - 1  is not where it is to be applied as I got null sets in both the formula based approach as well as the general outlier category (between 0.3 to 0.7, found this on google).\n",
    "\n",
    "# Conclusion:\n",
    "\n",
    "The applicants whose loan amount to annual income ratio is high tend to default. This may act as an influencing factor in the prediction model as even along with the outliers Fully Paid category has a significantly lower ratio."
   ]
  },
  {
   "cell_type": "markdown",
   "id": "d133c946",
   "metadata": {},
   "source": [
    "# Final Views:\n",
    " \n",
    "The analysis focused on both univariate and bivariate analysis for all the columns we found usefull / seriously influential.\n",
    "\n",
    "Here are a few factors that can act as an indicator / influential variables for the prediction models:\n",
    "1) Interest Rates (Not sure if this applicable since investor imposes this, or maybe he senses the risk and imposes the higher rates)\n",
    "2) Loan Amount to Annual Income Ratio\n",
    "3) Grades and Sub Grades\n",
    "4) Number of open Accounts\n",
    "\n",
    "Note : Did not analyse dti in this sheet cause found out from google that anything below 35% is good and almost all the results are below it."
   ]
  },
  {
   "cell_type": "code",
   "execution_count": null,
   "id": "05373a8a",
   "metadata": {},
   "outputs": [],
   "source": []
  }
 ],
 "metadata": {
  "kernelspec": {
   "display_name": "Python 3 (ipykernel)",
   "language": "python",
   "name": "python3"
  },
  "language_info": {
   "codemirror_mode": {
    "name": "ipython",
    "version": 3
   },
   "file_extension": ".py",
   "mimetype": "text/x-python",
   "name": "python",
   "nbconvert_exporter": "python",
   "pygments_lexer": "ipython3",
   "version": "3.10.9"
  }
 },
 "nbformat": 4,
 "nbformat_minor": 5
}
